{
  "nbformat": 4,
  "nbformat_minor": 0,
  "metadata": {
    "colab": {
      "name": "NLP.ipynb",
      "provenance": [],
      "collapsed_sections": []
    },
    "kernelspec": {
      "name": "python3",
      "display_name": "Python 3"
    }
  },
  "cells": [
    {
      "cell_type": "code",
      "metadata": {
        "id": "tEDdrwVGjH50",
        "colab_type": "code",
        "colab": {
          "base_uri": "https://localhost:8080/",
          "height": 71
        },
        "outputId": "006045e5-b6ef-43e1-c006-08ed94bba77c"
      },
      "source": [
        "import pandas as pd\n",
        "import re\n",
        "import seaborn as sns\n",
        "import string\n",
        "import spacy\n",
        "from spacy.lang.en.stop_words import STOP_WORDS\n",
        "from spacy.lang.en import English\n",
        "import nltk\n",
        "from nltk.tokenize import word_tokenize\n",
        "from wordcloud import WordCloud"
      ],
      "execution_count": null,
      "outputs": [
        {
          "output_type": "stream",
          "text": [
            "/usr/local/lib/python3.6/dist-packages/statsmodels/tools/_testing.py:19: FutureWarning: pandas.util.testing is deprecated. Use the functions in the public API at pandas.testing instead.\n",
            "  import pandas.util.testing as tm\n"
          ],
          "name": "stderr"
        }
      ]
    },
    {
      "cell_type": "code",
      "metadata": {
        "id": "V3AaF5ZfjCz0",
        "colab_type": "code",
        "colab": {}
      },
      "source": [
        "amadf = pd.read_csv('/content/drive/My Drive/Group2 - Parsing product and user review data/amazon_co-ecommerce_sample.csv')\n",
        "amadf.dropna(subset=['customer_reviews'], inplace=True)"
      ],
      "execution_count": null,
      "outputs": []
    },
    {
      "cell_type": "code",
      "metadata": {
        "id": "QUd8p1h-jJAy",
        "colab_type": "code",
        "colab": {
          "base_uri": "https://localhost:8080/",
          "height": 1000
        },
        "outputId": "b087caa8-7986-494d-dfec-e7ff25c79623"
      },
      "source": [
        "amadf_sorted = amadf.drop(columns = ['uniq_id', 'number_available_in_stock', 'number_of_answered_questions', 'customers_who_bought_this_item_also_bought', 'description', 'product_information', 'product_description', 'items_customers_buy_after_viewing_this_item', 'customer_questions_and_answers'])\n",
        "amadf_sorted.reset_index(inplace=True)\n",
        "amadf_sorted.head(75)"
      ],
      "execution_count": null,
      "outputs": [
        {
          "output_type": "execute_result",
          "data": {
            "text/html": [
              "<div>\n",
              "<style scoped>\n",
              "    .dataframe tbody tr th:only-of-type {\n",
              "        vertical-align: middle;\n",
              "    }\n",
              "\n",
              "    .dataframe tbody tr th {\n",
              "        vertical-align: top;\n",
              "    }\n",
              "\n",
              "    .dataframe thead th {\n",
              "        text-align: right;\n",
              "    }\n",
              "</style>\n",
              "<table border=\"1\" class=\"dataframe\">\n",
              "  <thead>\n",
              "    <tr style=\"text-align: right;\">\n",
              "      <th></th>\n",
              "      <th>index</th>\n",
              "      <th>product_name</th>\n",
              "      <th>manufacturer</th>\n",
              "      <th>price</th>\n",
              "      <th>number_of_reviews</th>\n",
              "      <th>average_review_rating</th>\n",
              "      <th>amazon_category_and_sub_category</th>\n",
              "      <th>customer_reviews</th>\n",
              "      <th>sellers</th>\n",
              "    </tr>\n",
              "  </thead>\n",
              "  <tbody>\n",
              "    <tr>\n",
              "      <th>0</th>\n",
              "      <td>0</td>\n",
              "      <td>Hornby 2014 Catalogue</td>\n",
              "      <td>Hornby</td>\n",
              "      <td>£3.42</td>\n",
              "      <td>15</td>\n",
              "      <td>4.9 out of 5 stars</td>\n",
              "      <td>Hobbies &gt; Model Trains &amp; Railway Sets &gt; Rail V...</td>\n",
              "      <td>Worth Buying For The Pictures Alone (As Ever) ...</td>\n",
              "      <td>{\"seller\"=&gt;[{\"Seller_name_1\"=&gt;\"Amazon.co.uk\", ...</td>\n",
              "    </tr>\n",
              "    <tr>\n",
              "      <th>1</th>\n",
              "      <td>1</td>\n",
              "      <td>FunkyBuys® Large Christmas Holiday Express Fes...</td>\n",
              "      <td>FunkyBuys</td>\n",
              "      <td>£16.99</td>\n",
              "      <td>2</td>\n",
              "      <td>4.5 out of 5 stars</td>\n",
              "      <td>Hobbies &gt; Model Trains &amp; Railway Sets &gt; Rail V...</td>\n",
              "      <td>Four Stars // 4.0 // 18 Dec. 2015 // By\\n    \\...</td>\n",
              "      <td>{\"seller\"=&gt;{\"Seller_name_1\"=&gt;\"UHD WHOLESALE\", ...</td>\n",
              "    </tr>\n",
              "    <tr>\n",
              "      <th>2</th>\n",
              "      <td>2</td>\n",
              "      <td>CLASSIC TOY TRAIN SET TRACK CARRIAGES LIGHT EN...</td>\n",
              "      <td>ccf</td>\n",
              "      <td>£9.99</td>\n",
              "      <td>17</td>\n",
              "      <td>3.9 out of 5 stars</td>\n",
              "      <td>Hobbies &gt; Model Trains &amp; Railway Sets &gt; Rail V...</td>\n",
              "      <td>**Highly Recommended!** // 5.0 // 26 May 2015 ...</td>\n",
              "      <td>{\"seller\"=&gt;[{\"Seller_name_1\"=&gt;\"DEAL-BOX\", \"Sel...</td>\n",
              "    </tr>\n",
              "    <tr>\n",
              "      <th>3</th>\n",
              "      <td>3</td>\n",
              "      <td>HORNBY Coach R4410A BR Hawksworth Corridor 3rd</td>\n",
              "      <td>Hornby</td>\n",
              "      <td>£39.99</td>\n",
              "      <td>1</td>\n",
              "      <td>5.0 out of 5 stars</td>\n",
              "      <td>Hobbies &gt; Model Trains &amp; Railway Sets &gt; Rail V...</td>\n",
              "      <td>I love it // 5.0 // 22 July 2013 // By\\n    \\n...</td>\n",
              "      <td>NaN</td>\n",
              "    </tr>\n",
              "    <tr>\n",
              "      <th>4</th>\n",
              "      <td>4</td>\n",
              "      <td>Hornby 00 Gauge 0-4-0 Gildenlow Salt Co. Steam...</td>\n",
              "      <td>Hornby</td>\n",
              "      <td>£32.19</td>\n",
              "      <td>3</td>\n",
              "      <td>4.7 out of 5 stars</td>\n",
              "      <td>Hobbies &gt; Model Trains &amp; Railway Sets &gt; Rail V...</td>\n",
              "      <td>Birthday present // 5.0 // 14 April 2014 // By...</td>\n",
              "      <td>NaN</td>\n",
              "    </tr>\n",
              "    <tr>\n",
              "      <th>...</th>\n",
              "      <td>...</td>\n",
              "      <td>...</td>\n",
              "      <td>...</td>\n",
              "      <td>...</td>\n",
              "      <td>...</td>\n",
              "      <td>...</td>\n",
              "      <td>...</td>\n",
              "      <td>...</td>\n",
              "      <td>...</td>\n",
              "    </tr>\n",
              "    <tr>\n",
              "      <th>70</th>\n",
              "      <td>70</td>\n",
              "      <td>Hornby R1174 Breakdown Hauler Train Set</td>\n",
              "      <td>Hornby</td>\n",
              "      <td>£74.99</td>\n",
              "      <td>4</td>\n",
              "      <td>4.8 out of 5 stars</td>\n",
              "      <td>Hobbies &gt; Model Trains &amp; Railway Sets &gt; Rail V...</td>\n",
              "      <td>Excellent small starter trainset, with a prett...</td>\n",
              "      <td>{\"seller\"=&gt;[{\"Seller_name_1\"=&gt;\"Toy Arena\", \"Se...</td>\n",
              "    </tr>\n",
              "    <tr>\n",
              "      <th>71</th>\n",
              "      <td>72</td>\n",
              "      <td>[NEW] Pureoroko C-58 water steam [NEW]</td>\n",
              "      <td>Train</td>\n",
              "      <td>£27.60</td>\n",
              "      <td>1</td>\n",
              "      <td>5.0 out of 5 stars</td>\n",
              "      <td>Hobbies &gt; Model Trains &amp; Railway Sets &gt; Rail V...</td>\n",
              "      <td>but now working well and a great item. // 5.0 ...</td>\n",
              "      <td>{\"seller\"=&gt;[{\"Seller_name_1\"=&gt;\"Sukiyaki JP\", \"...</td>\n",
              "    </tr>\n",
              "    <tr>\n",
              "      <th>72</th>\n",
              "      <td>73</td>\n",
              "      <td>Train Tech SK2 Home Signal Kit with R/G LEDs</td>\n",
              "      <td>Train Tech</td>\n",
              "      <td>£8.00</td>\n",
              "      <td>1</td>\n",
              "      <td>5.0 out of 5 stars</td>\n",
              "      <td>Hobbies &gt; Model Trains &amp; Railway Sets &gt; Lighti...</td>\n",
              "      <td>Five Stars // 5.0 // 25 Mar. 2015 // By\\n    \\...</td>\n",
              "      <td>{\"seller\"=&gt;{\"Seller_name_1\"=&gt;\"Gaugemaster\", \"S...</td>\n",
              "    </tr>\n",
              "    <tr>\n",
              "      <th>73</th>\n",
              "      <td>74</td>\n",
              "      <td>Kato 11-105 Small Type Moter Unit (for Bandai'...</td>\n",
              "      <td>Kato</td>\n",
              "      <td>£11.01</td>\n",
              "      <td>3</td>\n",
              "      <td>5.0 out of 5 stars</td>\n",
              "      <td>Hobbies &gt; Model Trains &amp; Railway Sets &gt; Rail V...</td>\n",
              "      <td>Top quality chassis // 5.0 // 27 Aug. 2013 // ...</td>\n",
              "      <td>{\"seller\"=&gt;[{\"Seller_name_1\"=&gt;\"Santa Trading J...</td>\n",
              "    </tr>\n",
              "    <tr>\n",
              "      <th>74</th>\n",
              "      <td>75</td>\n",
              "      <td>Class 47 47365 'Diamond Jubilee' BR Railfreigh...</td>\n",
              "      <td>Bachmann</td>\n",
              "      <td>£100.00</td>\n",
              "      <td>1</td>\n",
              "      <td>4.0 out of 5 stars</td>\n",
              "      <td>Hobbies &gt; Model Trains &amp; Railway Sets &gt; Rail V...</td>\n",
              "      <td>I don't own any of Heljan's 47 but I find ... ...</td>\n",
              "      <td>NaN</td>\n",
              "    </tr>\n",
              "  </tbody>\n",
              "</table>\n",
              "<p>75 rows × 9 columns</p>\n",
              "</div>"
            ],
            "text/plain": [
              "    index  ...                                            sellers\n",
              "0       0  ...  {\"seller\"=>[{\"Seller_name_1\"=>\"Amazon.co.uk\", ...\n",
              "1       1  ...  {\"seller\"=>{\"Seller_name_1\"=>\"UHD WHOLESALE\", ...\n",
              "2       2  ...  {\"seller\"=>[{\"Seller_name_1\"=>\"DEAL-BOX\", \"Sel...\n",
              "3       3  ...                                                NaN\n",
              "4       4  ...                                                NaN\n",
              "..    ...  ...                                                ...\n",
              "70     70  ...  {\"seller\"=>[{\"Seller_name_1\"=>\"Toy Arena\", \"Se...\n",
              "71     72  ...  {\"seller\"=>[{\"Seller_name_1\"=>\"Sukiyaki JP\", \"...\n",
              "72     73  ...  {\"seller\"=>{\"Seller_name_1\"=>\"Gaugemaster\", \"S...\n",
              "73     74  ...  {\"seller\"=>[{\"Seller_name_1\"=>\"Santa Trading J...\n",
              "74     75  ...                                                NaN\n",
              "\n",
              "[75 rows x 9 columns]"
            ]
          },
          "metadata": {
            "tags": []
          },
          "execution_count": 5
        }
      ]
    },
    {
      "cell_type": "code",
      "metadata": {
        "id": "IaNzckccjPWA",
        "colab_type": "code",
        "colab": {
          "base_uri": "https://localhost:8080/",
          "height": 513
        },
        "outputId": "2bdefd69-2773-4bf3-b9c3-1167437820ba"
      },
      "source": [
        "amadf_sorted['sor_review'] = amadf_sorted['customer_reviews'].str.split(pat='//')\n",
        "amadf_sorted.head()"
      ],
      "execution_count": null,
      "outputs": [
        {
          "output_type": "execute_result",
          "data": {
            "text/html": [
              "<div>\n",
              "<style scoped>\n",
              "    .dataframe tbody tr th:only-of-type {\n",
              "        vertical-align: middle;\n",
              "    }\n",
              "\n",
              "    .dataframe tbody tr th {\n",
              "        vertical-align: top;\n",
              "    }\n",
              "\n",
              "    .dataframe thead th {\n",
              "        text-align: right;\n",
              "    }\n",
              "</style>\n",
              "<table border=\"1\" class=\"dataframe\">\n",
              "  <thead>\n",
              "    <tr style=\"text-align: right;\">\n",
              "      <th></th>\n",
              "      <th>index</th>\n",
              "      <th>product_name</th>\n",
              "      <th>manufacturer</th>\n",
              "      <th>price</th>\n",
              "      <th>number_of_reviews</th>\n",
              "      <th>average_review_rating</th>\n",
              "      <th>amazon_category_and_sub_category</th>\n",
              "      <th>customer_reviews</th>\n",
              "      <th>sellers</th>\n",
              "      <th>sor_review</th>\n",
              "    </tr>\n",
              "  </thead>\n",
              "  <tbody>\n",
              "    <tr>\n",
              "      <th>0</th>\n",
              "      <td>0</td>\n",
              "      <td>Hornby 2014 Catalogue</td>\n",
              "      <td>Hornby</td>\n",
              "      <td>£3.42</td>\n",
              "      <td>15</td>\n",
              "      <td>4.9 out of 5 stars</td>\n",
              "      <td>Hobbies &gt; Model Trains &amp; Railway Sets &gt; Rail V...</td>\n",
              "      <td>Worth Buying For The Pictures Alone (As Ever) ...</td>\n",
              "      <td>{\"seller\"=&gt;[{\"Seller_name_1\"=&gt;\"Amazon.co.uk\", ...</td>\n",
              "      <td>[Worth Buying For The Pictures Alone (As Ever)...</td>\n",
              "    </tr>\n",
              "    <tr>\n",
              "      <th>1</th>\n",
              "      <td>1</td>\n",
              "      <td>FunkyBuys® Large Christmas Holiday Express Fes...</td>\n",
              "      <td>FunkyBuys</td>\n",
              "      <td>£16.99</td>\n",
              "      <td>2</td>\n",
              "      <td>4.5 out of 5 stars</td>\n",
              "      <td>Hobbies &gt; Model Trains &amp; Railway Sets &gt; Rail V...</td>\n",
              "      <td>Four Stars // 4.0 // 18 Dec. 2015 // By\\n    \\...</td>\n",
              "      <td>{\"seller\"=&gt;{\"Seller_name_1\"=&gt;\"UHD WHOLESALE\", ...</td>\n",
              "      <td>[Four Stars ,  4.0 ,  18 Dec. 2015 ,  By\\n    ...</td>\n",
              "    </tr>\n",
              "    <tr>\n",
              "      <th>2</th>\n",
              "      <td>2</td>\n",
              "      <td>CLASSIC TOY TRAIN SET TRACK CARRIAGES LIGHT EN...</td>\n",
              "      <td>ccf</td>\n",
              "      <td>£9.99</td>\n",
              "      <td>17</td>\n",
              "      <td>3.9 out of 5 stars</td>\n",
              "      <td>Hobbies &gt; Model Trains &amp; Railway Sets &gt; Rail V...</td>\n",
              "      <td>**Highly Recommended!** // 5.0 // 26 May 2015 ...</td>\n",
              "      <td>{\"seller\"=&gt;[{\"Seller_name_1\"=&gt;\"DEAL-BOX\", \"Sel...</td>\n",
              "      <td>[**Highly Recommended!** ,  5.0 ,  26 May 2015...</td>\n",
              "    </tr>\n",
              "    <tr>\n",
              "      <th>3</th>\n",
              "      <td>3</td>\n",
              "      <td>HORNBY Coach R4410A BR Hawksworth Corridor 3rd</td>\n",
              "      <td>Hornby</td>\n",
              "      <td>£39.99</td>\n",
              "      <td>1</td>\n",
              "      <td>5.0 out of 5 stars</td>\n",
              "      <td>Hobbies &gt; Model Trains &amp; Railway Sets &gt; Rail V...</td>\n",
              "      <td>I love it // 5.0 // 22 July 2013 // By\\n    \\n...</td>\n",
              "      <td>NaN</td>\n",
              "      <td>[I love it ,  5.0 ,  22 July 2013 ,  By\\n    \\...</td>\n",
              "    </tr>\n",
              "    <tr>\n",
              "      <th>4</th>\n",
              "      <td>4</td>\n",
              "      <td>Hornby 00 Gauge 0-4-0 Gildenlow Salt Co. Steam...</td>\n",
              "      <td>Hornby</td>\n",
              "      <td>£32.19</td>\n",
              "      <td>3</td>\n",
              "      <td>4.7 out of 5 stars</td>\n",
              "      <td>Hobbies &gt; Model Trains &amp; Railway Sets &gt; Rail V...</td>\n",
              "      <td>Birthday present // 5.0 // 14 April 2014 // By...</td>\n",
              "      <td>NaN</td>\n",
              "      <td>[Birthday present ,  5.0 ,  14 April 2014 ,  B...</td>\n",
              "    </tr>\n",
              "  </tbody>\n",
              "</table>\n",
              "</div>"
            ],
            "text/plain": [
              "   index  ...                                         sor_review\n",
              "0      0  ...  [Worth Buying For The Pictures Alone (As Ever)...\n",
              "1      1  ...  [Four Stars ,  4.0 ,  18 Dec. 2015 ,  By\\n    ...\n",
              "2      2  ...  [**Highly Recommended!** ,  5.0 ,  26 May 2015...\n",
              "3      3  ...  [I love it ,  5.0 ,  22 July 2013 ,  By\\n    \\...\n",
              "4      4  ...  [Birthday present ,  5.0 ,  14 April 2014 ,  B...\n",
              "\n",
              "[5 rows x 10 columns]"
            ]
          },
          "metadata": {
            "tags": []
          },
          "execution_count": 40
        }
      ]
    },
    {
      "cell_type": "code",
      "metadata": {
        "id": "OdxzQuZdkBaj",
        "colab_type": "code",
        "colab": {
          "base_uri": "https://localhost:8080/",
          "height": 34
        },
        "outputId": "2c529ce4-aad1-4de5-8904-f3e1340b49e8"
      },
      "source": [
        "ex_rev = []\n",
        "ex_rev_unl = []\n",
        "pro = []\n",
        "for ind,i in enumerate(amadf_sorted['sor_review']):\n",
        "   ex_rev_unl.append(i.pop())\n",
        "   a = i[::4]\n",
        "   for j in a:\n",
        "     if 'if(ue) {' in j.strip():\n",
        "       continue\n",
        "     pro.append(amadf_sorted['product_name'][ind])\n",
        "     ex_rev.append(j)\n",
        "len(ex_rev)"
      ],
      "execution_count": null,
      "outputs": [
        {
          "output_type": "execute_result",
          "data": {
            "text/plain": [
              "29549"
            ]
          },
          "metadata": {
            "tags": []
          },
          "execution_count": 41
        }
      ]
    },
    {
      "cell_type": "code",
      "metadata": {
        "id": "bgtwTkJhZK7X",
        "colab_type": "code",
        "colab": {}
      },
      "source": [
        "rat = []\n",
        "for i,j in enumerate(amadf_sorted['sor_review']):\n",
        "  for k,l in enumerate(j):\n",
        "    if re.findall(r'\\d\\.\\d', l) != []:\n",
        "      rat.extend(re.findall(r'\\d\\.\\d', l))"
      ],
      "execution_count": null,
      "outputs": []
    },
    {
      "cell_type": "code",
      "metadata": {
        "id": "Ep8ftnWWa38U",
        "colab_type": "code",
        "colab": {
          "base_uri": "https://localhost:8080/",
          "height": 34
        },
        "outputId": "f6720995-2832-4c9b-9045-06ac7b5919c5"
      },
      "source": [
        "rat = list(map(float, rat))\n",
        "rat\n",
        "del rat[-398:-1]\n",
        "print(len(rat))"
      ],
      "execution_count": null,
      "outputs": [
        {
          "output_type": "stream",
          "text": [
            "29549\n"
          ],
          "name": "stdout"
        }
      ]
    },
    {
      "cell_type": "code",
      "metadata": {
        "id": "ztROifxYoOk5",
        "colab_type": "code",
        "colab": {
          "base_uri": "https://localhost:8080/",
          "height": 419
        },
        "outputId": "072c3a2d-3aa4-4b8a-a45b-c68bf51b4b82"
      },
      "source": [
        "rev_df = pd.DataFrame({'Review':ex_rev, 'Rating': rat, 'product_name':pro})\n",
        "rev_df"
      ],
      "execution_count": null,
      "outputs": [
        {
          "output_type": "execute_result",
          "data": {
            "text/html": [
              "<div>\n",
              "<style scoped>\n",
              "    .dataframe tbody tr th:only-of-type {\n",
              "        vertical-align: middle;\n",
              "    }\n",
              "\n",
              "    .dataframe tbody tr th {\n",
              "        vertical-align: top;\n",
              "    }\n",
              "\n",
              "    .dataframe thead th {\n",
              "        text-align: right;\n",
              "    }\n",
              "</style>\n",
              "<table border=\"1\" class=\"dataframe\">\n",
              "  <thead>\n",
              "    <tr style=\"text-align: right;\">\n",
              "      <th></th>\n",
              "      <th>Review</th>\n",
              "      <th>Rating</th>\n",
              "      <th>product_name</th>\n",
              "    </tr>\n",
              "  </thead>\n",
              "  <tbody>\n",
              "    <tr>\n",
              "      <th>0</th>\n",
              "      <td>Worth Buying For The Pictures Alone (As Ever)</td>\n",
              "      <td>4.0</td>\n",
              "      <td>Hornby 2014 Catalogue</td>\n",
              "    </tr>\n",
              "    <tr>\n",
              "      <th>1</th>\n",
              "      <td>Part of the magic for me growing up as a boy ...</td>\n",
              "      <td>5.0</td>\n",
              "      <td>Hornby 2014 Catalogue</td>\n",
              "    </tr>\n",
              "    <tr>\n",
              "      <th>2</th>\n",
              "      <td>Amazing detail, every credit to the photograp...</td>\n",
              "      <td>5.0</td>\n",
              "      <td>Hornby 2014 Catalogue</td>\n",
              "    </tr>\n",
              "    <tr>\n",
              "      <th>3</th>\n",
              "      <td>This was purchased on behalf of my Dad. He is...</td>\n",
              "      <td>5.0</td>\n",
              "      <td>Hornby 2014 Catalogue</td>\n",
              "    </tr>\n",
              "    <tr>\n",
              "      <th>4</th>\n",
              "      <td>Everything I really needed to see what was on...</td>\n",
              "      <td>5.0</td>\n",
              "      <td>Hornby 2014 Catalogue</td>\n",
              "    </tr>\n",
              "    <tr>\n",
              "      <th>...</th>\n",
              "      <td>...</td>\n",
              "      <td>...</td>\n",
              "      <td>...</td>\n",
              "    </tr>\n",
              "    <tr>\n",
              "      <th>29544</th>\n",
              "      <td>1st class kit top marks to bandai if your not...</td>\n",
              "      <td>5.0</td>\n",
              "      <td>Star Wars 1/72 Y-Wing Starfighter</td>\n",
              "    </tr>\n",
              "    <tr>\n",
              "      <th>29545</th>\n",
              "      <td>Fantastic kit, well fiddly and tiny parts, ha...</td>\n",
              "      <td>5.0</td>\n",
              "      <td>Star Wars 1/72 Y-Wing Starfighter</td>\n",
              "    </tr>\n",
              "    <tr>\n",
              "      <th>29546</th>\n",
              "      <td>Ok so if you don't read these (like i didnt) ...</td>\n",
              "      <td>4.0</td>\n",
              "      <td>Star Wars 1/72 Y-Wing Starfighter</td>\n",
              "    </tr>\n",
              "    <tr>\n",
              "      <th>29547</th>\n",
              "      <td>I bought this model back in 15th December, ha...</td>\n",
              "      <td>5.0</td>\n",
              "      <td>Star Wars 1/72 Y-Wing Starfighter</td>\n",
              "    </tr>\n",
              "    <tr>\n",
              "      <th>29548</th>\n",
              "      <td>This kit is awesome. Perfect for any who love...</td>\n",
              "      <td>5.0</td>\n",
              "      <td>Star Wars 1/72 Y-Wing Starfighter</td>\n",
              "    </tr>\n",
              "  </tbody>\n",
              "</table>\n",
              "<p>29549 rows × 3 columns</p>\n",
              "</div>"
            ],
            "text/plain": [
              "                                                  Review  ...                       product_name\n",
              "0         Worth Buying For The Pictures Alone (As Ever)   ...              Hornby 2014 Catalogue\n",
              "1       Part of the magic for me growing up as a boy ...  ...              Hornby 2014 Catalogue\n",
              "2       Amazing detail, every credit to the photograp...  ...              Hornby 2014 Catalogue\n",
              "3       This was purchased on behalf of my Dad. He is...  ...              Hornby 2014 Catalogue\n",
              "4       Everything I really needed to see what was on...  ...              Hornby 2014 Catalogue\n",
              "...                                                  ...  ...                                ...\n",
              "29544   1st class kit top marks to bandai if your not...  ...  Star Wars 1/72 Y-Wing Starfighter\n",
              "29545   Fantastic kit, well fiddly and tiny parts, ha...  ...  Star Wars 1/72 Y-Wing Starfighter\n",
              "29546   Ok so if you don't read these (like i didnt) ...  ...  Star Wars 1/72 Y-Wing Starfighter\n",
              "29547   I bought this model back in 15th December, ha...  ...  Star Wars 1/72 Y-Wing Starfighter\n",
              "29548   This kit is awesome. Perfect for any who love...  ...  Star Wars 1/72 Y-Wing Starfighter\n",
              "\n",
              "[29549 rows x 3 columns]"
            ]
          },
          "metadata": {
            "tags": []
          },
          "execution_count": 11
        }
      ]
    },
    {
      "cell_type": "markdown",
      "metadata": {
        "id": "qJYyCa4Q9ovb",
        "colab_type": "text"
      },
      "source": [
        "***Removing HTML***"
      ]
    },
    {
      "cell_type": "code",
      "metadata": {
        "id": "YT8T0rg-5fH3",
        "colab_type": "code",
        "colab": {
          "base_uri": "https://localhost:8080/",
          "height": 289
        },
        "outputId": "940d6ca6-bdde-4aac-b57c-73c769753922"
      },
      "source": [
        "for k,i in enumerate(rev_df['Review']):\n",
        "  i = re.sub(r'(www.\\S+|http[s]?://(?:[a-zA-Z]|[0-9]|[$-_@.&+]|[!*\\(\\),]|(?:%[0-9a-fA-F][0-9a-fA-F]))+)',\"\" , i)\n",
        "  rev_df['Review'][k] = i.strip()\n",
        "rev_df.head()\n"
      ],
      "execution_count": null,
      "outputs": [
        {
          "output_type": "stream",
          "text": [
            "/usr/local/lib/python3.6/dist-packages/ipykernel_launcher.py:3: SettingWithCopyWarning: \n",
            "A value is trying to be set on a copy of a slice from a DataFrame\n",
            "\n",
            "See the caveats in the documentation: https://pandas.pydata.org/pandas-docs/stable/user_guide/indexing.html#returning-a-view-versus-a-copy\n",
            "  This is separate from the ipykernel package so we can avoid doing imports until\n"
          ],
          "name": "stderr"
        },
        {
          "output_type": "execute_result",
          "data": {
            "text/html": [
              "<div>\n",
              "<style scoped>\n",
              "    .dataframe tbody tr th:only-of-type {\n",
              "        vertical-align: middle;\n",
              "    }\n",
              "\n",
              "    .dataframe tbody tr th {\n",
              "        vertical-align: top;\n",
              "    }\n",
              "\n",
              "    .dataframe thead th {\n",
              "        text-align: right;\n",
              "    }\n",
              "</style>\n",
              "<table border=\"1\" class=\"dataframe\">\n",
              "  <thead>\n",
              "    <tr style=\"text-align: right;\">\n",
              "      <th></th>\n",
              "      <th>Review</th>\n",
              "      <th>Rating</th>\n",
              "      <th>product_name</th>\n",
              "    </tr>\n",
              "  </thead>\n",
              "  <tbody>\n",
              "    <tr>\n",
              "      <th>0</th>\n",
              "      <td>Worth Buying For The Pictures Alone (As Ever)</td>\n",
              "      <td>4.0</td>\n",
              "      <td>Hornby 2014 Catalogue</td>\n",
              "    </tr>\n",
              "    <tr>\n",
              "      <th>1</th>\n",
              "      <td>Part of the magic for me growing up as a boy w...</td>\n",
              "      <td>5.0</td>\n",
              "      <td>Hornby 2014 Catalogue</td>\n",
              "    </tr>\n",
              "    <tr>\n",
              "      <th>2</th>\n",
              "      <td>Amazing detail, every credit to the photograph...</td>\n",
              "      <td>5.0</td>\n",
              "      <td>Hornby 2014 Catalogue</td>\n",
              "    </tr>\n",
              "    <tr>\n",
              "      <th>3</th>\n",
              "      <td>This was purchased on behalf of my Dad. He is ...</td>\n",
              "      <td>5.0</td>\n",
              "      <td>Hornby 2014 Catalogue</td>\n",
              "    </tr>\n",
              "    <tr>\n",
              "      <th>4</th>\n",
              "      <td>Everything I really needed to see what was on ...</td>\n",
              "      <td>5.0</td>\n",
              "      <td>Hornby 2014 Catalogue</td>\n",
              "    </tr>\n",
              "  </tbody>\n",
              "</table>\n",
              "</div>"
            ],
            "text/plain": [
              "                                              Review  ...           product_name\n",
              "0      Worth Buying For The Pictures Alone (As Ever)  ...  Hornby 2014 Catalogue\n",
              "1  Part of the magic for me growing up as a boy w...  ...  Hornby 2014 Catalogue\n",
              "2  Amazing detail, every credit to the photograph...  ...  Hornby 2014 Catalogue\n",
              "3  This was purchased on behalf of my Dad. He is ...  ...  Hornby 2014 Catalogue\n",
              "4  Everything I really needed to see what was on ...  ...  Hornby 2014 Catalogue\n",
              "\n",
              "[5 rows x 3 columns]"
            ]
          },
          "metadata": {
            "tags": []
          },
          "execution_count": 12
        }
      ]
    },
    {
      "cell_type": "code",
      "metadata": {
        "id": "xzggYP489ZsL",
        "colab_type": "code",
        "colab": {}
      },
      "source": [
        "new = pd.merge(amadf_sorted, rev_df)"
      ],
      "execution_count": null,
      "outputs": []
    },
    {
      "cell_type": "code",
      "metadata": {
        "id": "ss-nvL-8GZAu",
        "colab_type": "code",
        "colab": {}
      },
      "source": [
        "pd.set_option('display.max_rows', new.shape[0]+1)\n",
        "new = new.drop(columns=['sor_review', 'customer_reviews'])\n"
      ],
      "execution_count": null,
      "outputs": []
    },
    {
      "cell_type": "code",
      "metadata": {
        "id": "BJ3qLD2u-pwa",
        "colab_type": "code",
        "colab": {
          "base_uri": "https://localhost:8080/",
          "height": 296
        },
        "outputId": "5a9b3e91-a5e5-4a2c-a34d-7c5d78961c50"
      },
      "source": [
        ""
      ],
      "execution_count": null,
      "outputs": [
        {
          "output_type": "execute_result",
          "data": {
            "text/plain": [
              "<matplotlib.axes._subplots.AxesSubplot at 0x7fa505a0cba8>"
            ]
          },
          "metadata": {
            "tags": []
          },
          "execution_count": 81
        },
        {
          "output_type": "display_data",
          "data": {
            "image/png": "[encoded data removed]",
            "text/plain": [
              "<Figure size 432x288 with 1 Axes>"
            ]
          },
          "metadata": {
            "tags": [],
            "needs_background": "light"
          }
        }
      ]
    },
    {
      "cell_type": "code",
      "metadata": {
        "id": "itsXoOFx2fZu",
        "colab_type": "code",
        "colab": {}
      },
      "source": [
        "ex_rev_copy = ex_rev.copy()"
      ],
      "execution_count": null,
      "outputs": []
    },
    {
      "cell_type": "code",
      "metadata": {
        "id": "NRl2vsjKKCWS",
        "colab_type": "code",
        "colab": {}
      },
      "source": [
        "token_without_sw = ''\n",
        "punctuations = string.punctuation\n",
        " \n",
        "stop_words = spacy.lang.en.stop_words.STOP_WORDS\n",
        " \n",
        "def punc_sw_rem(sentence):\n",
        "  sentence = sentence.lower()\n",
        " \n",
        "  sentence = sentence.translate(str.maketrans('', '', punctuations))\n",
        "  emoji_pattern = re.compile(\"[\"\n",
        "                           u\"\\U0001F600-\\U0001F64F\" \n",
        "                           u\"\\U0001F300-\\U0001F5FF\" \n",
        "                           u\"\\U0001F680-\\U0001F6FF\" \n",
        "                           u\"\\U0001F1E0-\\U0001F1FF\"  \n",
        "                           u\"\\U00002702-\\U000027B0\"\n",
        "                           u\"\\U000024C2-\\U0001F251\"\n",
        "                           \"]+\", flags=re.UNICODE)\n",
        "  \n",
        "  tok_word = word_tokenize(sentence,\"english\")\n",
        "  tokens_without_sw = \"  \".join(word for word in tok_word if not word in stop_words)\n",
        "  return emoji_pattern.sub(r'', tokens_without_sw)\n",
        " \n",
        "ex_rev_copy = ex_rev\n",
        "for i,text in enumerate(ex_rev_copy):\n",
        "  ex_rev_copy[i] = punc_sw_rem(text)\n",
        " \n",
        "ex_rev_copy"
      ],
      "execution_count": null,
      "outputs": []
    }
  ]
}